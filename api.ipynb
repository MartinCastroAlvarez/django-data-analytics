{
 "cells": [
  {
   "cell_type": "markdown",
   "id": "b54e4a7a",
   "metadata": {},
   "source": [
    "# Authentication"
   ]
  },
  {
   "cell_type": "code",
   "execution_count": 2,
   "id": "5cd5ed62",
   "metadata": {},
   "outputs": [],
   "source": [
    "import requests"
   ]
  },
  {
   "cell_type": "code",
   "execution_count": 3,
   "id": "8f97a7b0",
   "metadata": {},
   "outputs": [],
   "source": [
    "session = requests.Session()"
   ]
  },
  {
   "cell_type": "code",
   "execution_count": 4,
   "id": "6de975ed",
   "metadata": {},
   "outputs": [
    {
     "name": "stdout",
     "output_type": "stream",
     "text": [
      "200 OK\n"
     ]
    }
   ],
   "source": [
    "response = session.get(\"http://127.0.0.1:8000/api/auth/login/\")\n",
    "session.headers[\"X-CSRFToken\"] = response.headers['Set-Cookie'].split('csrftoken=')[1].split(';')[0]\n",
    "data = {\"username\": \"admin\", \"password\": \"admin\"}\n",
    "response = session.post(\"http://127.0.0.1:8000/api/auth/login/\", data)\n",
    "print(response.status_code, response.reason)\n",
    "assert response.status_code == 200\n",
    "session.headers[\"X-CSRFToken\"] = response.headers['Set-Cookie'].split('csrftoken=')[1].split(';')[0]"
   ]
  },
  {
   "cell_type": "markdown",
   "id": "6ca2b461",
   "metadata": {},
   "source": [
    "# Audiences"
   ]
  },
  {
   "cell_type": "markdown",
   "id": "79450eef",
   "metadata": {},
   "source": [
    "#### CREATE"
   ]
  },
  {
   "cell_type": "code",
   "execution_count": 89,
   "id": "4b6fd1b5",
   "metadata": {},
   "outputs": [
    {
     "name": "stdout",
     "output_type": "stream",
     "text": [
      "201 Created\n",
      "{'id': 11, 'title': 'New Generation', 'created_at': '2022-04-14T01:51:31.034449Z', 'updated_at': '2022-04-14T01:51:31.034487Z', 'deleted_at': None}\n"
     ]
    }
   ],
   "source": [
    "data = {\"title\": \"New Generation\"}\n",
    "response = session.post(\"http://127.0.0.1:8000/api/audiences\", data=data)\n",
    "print(response.status_code, response.reason)\n",
    "assert response.status_code == 201\n",
    "audience = response.json()\n",
    "print(audience)"
   ]
  },
  {
   "cell_type": "markdown",
   "id": "06ae77e9",
   "metadata": {},
   "source": [
    "#### RETRIEVE"
   ]
  },
  {
   "cell_type": "code",
   "execution_count": 95,
   "id": "325c34cb",
   "metadata": {},
   "outputs": [
    {
     "name": "stdout",
     "output_type": "stream",
     "text": [
      "200 OK\n",
      "{'id': 11, 'title': 'Millenials', 'created_at': '2022-04-14T01:51:31.034449Z', 'updated_at': '2022-04-14T01:52:15.910606Z', 'deleted_at': None}\n"
     ]
    }
   ],
   "source": [
    "response = session.get(f\"http://127.0.0.1:8000/api/audiences/{audience['id']}\")\n",
    "print(response.statnotebookus_code, response.reason)\n",
    "assert response.status_code == 200\n",
    "print(response.json())"
   ]
  },
  {
   "cell_type": "markdown",
   "id": "94cf6766",
   "metadata": {},
   "source": [
    "#### UPDATE"
   ]
  },
  {
   "cell_type": "code",
   "execution_count": 97,
   "id": "0466a8e3",
   "metadata": {},
   "outputs": [
    {
     "name": "stdout",
     "output_type": "stream",
     "text": [
      "200 OK\n",
      "{'id': 11, 'title': 'Millenials', 'created_at': '2022-04-14T01:51:31.034449Z', 'updated_at': '2022-04-14T01:54:20.191601Z', 'deleted_at': None}\n"
     ]
    }
   ],
   "source": [
    "data = {\"title\": \"Millenials\"}\n",
    "response = session.put(f\"http://127.0.0.1:8000/api/audiences/{audience['id']}\", data=data)\n",
    "print(response.status_code, response.reason)\n",
    "assert response.status_code == 200\n",
    "print(response.json())"
   ]
  },
  {
   "cell_type": "markdown",
   "id": "a1efb548",
   "metadata": {},
   "source": [
    "#### DELETE"
   ]
  },
  {
   "cell_type": "code",
   "execution_count": 98,
   "id": "870e82f0",
   "metadata": {},
   "outputs": [
    {
     "name": "stdout",
     "output_type": "stream",
     "text": [
      "200 OK\n",
      "{'id': 11, 'title': 'Millenials', 'created_at': '2022-04-14T01:51:31.034449Z', 'updated_at': '2022-04-14T01:54:47.470303Z', 'deleted_at': '2022-04-14T01:54:47.470238Z'}\n"
     ]
    }
   ],
   "source": [
    "response = session.delete(f\"http://127.0.0.1:8000/api/audiences/{audience['id']}\")\n",
    "print(response.status_code, response.reason)\n",
    "assert response.status_code == 200\n",
    "print(response.json())"
   ]
  },
  {
   "cell_type": "markdown",
   "id": "4bc07468",
   "metadata": {},
   "source": [
    "#### SEARCH"
   ]
  },
  {
   "cell_type": "code",
   "execution_count": 46,
   "id": "b6f7f700",
   "metadata": {},
   "outputs": [
    {
     "name": "stdout",
     "output_type": "stream",
     "text": [
      "200 OK\n",
      "[]\n"
     ]
    }
   ],
   "source": [
    "params = {\"search\": \"spain\", \"start\": \"2010-01-01\", \"end\": \"2022-12-31\"}\n",
    "response = session.get(\"http://127.0.0.1:8000/api/audiences\", params=params)\n",
    "print(response.status_code, response.reason)\n",
    "assert response.status_code == 200\n",
    "print(response.json()[:3])"
   ]
  },
  {
   "cell_type": "markdown",
   "id": "b92d3590",
   "metadata": {},
   "source": [
    "# Countries"
   ]
  },
  {
   "cell_type": "markdown",
   "id": "a4949c90",
   "metadata": {},
   "source": [
    "#### CREATE"
   ]
  },
  {
   "cell_type": "code",
   "execution_count": 100,
   "id": "d6b4cf45",
   "metadata": {},
   "outputs": [
    {
     "name": "stdout",
     "output_type": "stream",
     "text": [
      "201 Created\n",
      "{'id': 5, 'title': 'United States', 'created_at': '2022-04-14T01:56:42.801329Z', 'updated_at': '2022-04-14T01:56:42.801356Z', 'deleted_at': None}\n"
     ]
    }
   ],
   "source": [
    "data = {\"title\": \"United States\"}\n",
    "response = session.post(\"http://127.0.0.1:8000/api/countries\", data=data)\n",
    "print(response.status_code, response.reason)\n",
    "assert response.status_code == 201\n",
    "country = response.json()\n",
    "print(country)"
   ]
  },
  {
   "cell_type": "markdown",
   "id": "0652ee86",
   "metadata": {},
   "source": [
    "#### RETRIEVE"
   ]
  },
  {
   "cell_type": "code",
   "execution_count": 102,
   "id": "556cf886",
   "metadata": {},
   "outputs": [
    {
     "name": "stdout",
     "output_type": "stream",
     "text": [
      "200 OK\n",
      "{'id': 5, 'title': 'United States', 'created_at': '2022-04-14T01:56:42.801329Z', 'updated_at': '2022-04-14T01:56:42.801356Z', 'deleted_at': None}\n"
     ]
    }
   ],
   "source": [
    "response = session.get(f\"http://127.0.0.1:8000/api/countries/{country['id']}\")\n",
    "print(response.status_code, response.reason)\n",
    "assert response.status_code == 200\n",
    "print(response.json())"
   ]
  },
  {
   "cell_type": "markdown",
   "id": "38042084",
   "metadata": {},
   "source": [
    "#### SEARCH"
   ]
  },
  {
   "cell_type": "code",
   "execution_count": 50,
   "id": "c2510f04",
   "metadata": {},
   "outputs": [
    {
     "name": "stdout",
     "output_type": "stream",
     "text": [
      "200 OK\n",
      "[{'id': 1, 'title': 'Spain', 'created_at': '2022-03-26T21:54:47.633878Z', 'updated_at': '2022-03-26T21:54:47.633914Z', 'deleted_at': None}]\n"
     ]
    }
   ],
   "source": [
    "params = {\"search\": \"spain\", \"start\": \"2010-01-01\", \"end\": \"2022-12-31\"}\n",
    "response = session.get(\"http://127.0.0.1:8000/api/countries\", params=params)\n",
    "print(response.status_code, response.reason)\n",
    "assert response.status_code == 200\n",
    "print(response.json()[:3])"
   ]
  },
  {
   "cell_type": "markdown",
   "id": "02e71d1b",
   "metadata": {},
   "source": [
    "# States"
   ]
  },
  {
   "cell_type": "markdown",
   "id": "2bda4975",
   "metadata": {},
   "source": [
    "#### CREATE"
   ]
  },
  {
   "cell_type": "code",
   "execution_count": 108,
   "id": "f7339baa",
   "metadata": {},
   "outputs": [
    {
     "name": "stdout",
     "output_type": "stream",
     "text": [
      "201 Created\n",
      "{\"id\":11,\"title\":\"California\",\"country\":\"http://127.0.0.1:8000/api/countries/5\",\"created_at\":\"2022-04-14T01:58:46.600662Z\",\"updated_at\":\"2022-04-14T01:58:46.600699Z\",\"deleted_at\":null}\n",
      "{'id': 11, 'title': 'California', 'country': 'http://127.0.0.1:8000/api/countries/5', 'created_at': '2022-04-14T01:58:46.600662Z', 'updated_at': '2022-04-14T01:58:46.600699Z', 'deleted_at': None}\n"
     ]
    }
   ],
   "source": [
    "data = {\"title\": \"California\", \"country\": f\"http://127.0.0.1:8000/api/countries/{country['id']}\"}\n",
    "response = session.post(\"http://127.0.0.1:8000/api/states\", data=data)\n",
    "print(response.status_code, response.reason)\n",
    "assert response.status_code == 201\n",
    "state = response.json()\n",
    "print(state)"
   ]
  },
  {
   "cell_type": "markdown",
   "id": "694e28d5",
   "metadata": {},
   "source": [
    "#### RETRIEVE"
   ]
  },
  {
   "cell_type": "code",
   "execution_count": 109,
   "id": "15cdf1fe",
   "metadata": {},
   "outputs": [
    {
     "name": "stdout",
     "output_type": "stream",
     "text": [
      "200 OK\n",
      "{'id': 11, 'title': 'California', 'country': 'http://127.0.0.1:8000/api/countries/5', 'created_at': '2022-04-14T01:58:46.600662Z', 'updated_at': '2022-04-14T01:58:46.600699Z', 'deleted_at': None}\n"
     ]
    }
   ],
   "source": [
    "response = session.get(f\"http://127.0.0.1:8000/api/states/{state['id']}\")\n",
    "print(response.status_code, response.reason)\n",
    "assert response.status_code == 200\n",
    "print(response.json())"
   ]
  },
  {
   "cell_type": "markdown",
   "id": "ac7dcead",
   "metadata": {},
   "source": [
    "#### SEARCH"
   ]
  },
  {
   "cell_type": "code",
   "execution_count": 51,
   "id": "ed5ed110",
   "metadata": {},
   "outputs": [
    {
     "name": "stdout",
     "output_type": "stream",
     "text": [
      "200 OK\n",
      "[{'id': 1, 'title': 'Valencia', 'country': 'http://127.0.0.1:8000/api/countries/1', 'created_at': '2022-03-26T21:56:07.679549Z', 'updated_at': '2022-03-26T21:56:07.679616Z', 'deleted_at': None}, {'id': 2, 'title': 'Alicante', 'country': 'http://127.0.0.1:8000/api/countries/1', 'created_at': '2022-03-26T21:56:15.849486Z', 'updated_at': '2022-03-26T21:56:15.849517Z', 'deleted_at': None}, {'id': 3, 'title': 'Castellón', 'country': 'http://127.0.0.1:8000/api/countries/1', 'created_at': '2022-03-26T21:56:19.628964Z', 'updated_at': '2022-03-26T21:56:19.629019Z', 'deleted_at': None}]\n"
     ]
    }
   ],
   "source": [
    "params = {\"search\": \"spain\", \"start\": \"2010-01-01\", \"end\": \"2022-12-31\"}\n",
    "response = session.get(\"http://127.0.0.1:8000/api/states\", params=params)\n",
    "print(response.status_code, response.reason)\n",
    "assert response.status_code == 200\n",
    "print(response.json()[:3])"
   ]
  },
  {
   "cell_type": "markdown",
   "id": "2155ccd5",
   "metadata": {},
   "source": [
    "# Cities"
   ]
  },
  {
   "cell_type": "markdown",
   "id": "1ac54adf",
   "metadata": {},
   "source": [
    "#### CREATE"
   ]
  },
  {
   "cell_type": "code",
   "execution_count": 111,
   "id": "182997e7",
   "metadata": {},
   "outputs": [
    {
     "name": "stdout",
     "output_type": "stream",
     "text": [
      "201 Created\n",
      "{'id': 11, 'title': 'California', 'country': 'http://127.0.0.1:8000/api/countries/5', 'created_at': '2022-04-14T01:58:46.600662Z', 'updated_at': '2022-04-14T01:58:46.600699Z', 'deleted_at': None}\n"
     ]
    }
   ],
   "source": [
    "data = {\"title\": \"San Francisco\", \"state\": f\"http://127.0.0.1:8000/api/states/{state['id']}\"}\n",
    "response = session.post(\"http://127.0.0.1:8000/api/cities\", data=data)\n",
    "print(response.status_code, response.reason)\n",
    "assert response.status_code == 201\n",
    "city = response.json()\n",
    "print(city)"
   ]
  },
  {
   "cell_type": "markdown",
   "id": "f10e080f",
   "metadata": {},
   "source": [
    "#### RETRIEVE"
   ]
  },
  {
   "cell_type": "code",
   "execution_count": 112,
   "id": "9cd2488e",
   "metadata": {},
   "outputs": [
    {
     "name": "stdout",
     "output_type": "stream",
     "text": [
      "200 OK\n",
      "{'id': 11, 'title': 'San Francisco', 'state': 'http://127.0.0.1:8000/api/states/11', 'created_at': '2022-04-14T01:59:34.983484Z', 'updated_at': '2022-04-14T01:59:34.983576Z', 'deleted_at': None}\n"
     ]
    }
   ],
   "source": [
    "response = session.get(f\"http://127.0.0.1:8000/api/cities/{city['id']}\")\n",
    "print(response.status_code, response.reason)\n",
    "assert response.status_code == 200\n",
    "print(response.json())"
   ]
  },
  {
   "cell_type": "markdown",
   "id": "39b5cecb",
   "metadata": {},
   "source": [
    "#### SEARCH"
   ]
  },
  {
   "cell_type": "code",
   "execution_count": 59,
   "id": "59a91c21",
   "metadata": {},
   "outputs": [
    {
     "name": "stdout",
     "output_type": "stream",
     "text": [
      "200 OK\n",
      "[{'id': 1, 'title': 'Teruel', 'state': 'http://127.0.0.1:8000/api/states/4', 'created_at': '2022-03-26T21:57:15.344398Z', 'updated_at': '2022-03-26T21:57:15.344427Z', 'deleted_at': None}, {'id': 2, 'title': 'Valencia', 'state': 'http://127.0.0.1:8000/api/states/1', 'created_at': '2022-03-26T21:57:22.528348Z', 'updated_at': '2022-03-26T21:57:22.528396Z', 'deleted_at': None}, {'id': 3, 'title': 'Alicante', 'state': 'http://127.0.0.1:8000/api/states/2', 'created_at': '2022-03-26T21:57:27.601285Z', 'updated_at': '2022-03-26T21:57:27.601315Z', 'deleted_at': None}]\n"
     ]
    }
   ],
   "source": [
    "params = {\"search\": \"spain\", \"start\": \"2010-01-01\", \"end\": \"2022-12-31\"}\n",
    "response = session.get(\"http://127.0.0.1:8000/api/cities\", params=params)\n",
    "print(response.status_code, response.reason)\n",
    "assert response.status_code == 200\n",
    "print(response.json()[:3])"
   ]
  },
  {
   "cell_type": "markdown",
   "id": "d35edb9e",
   "metadata": {},
   "source": [
    "# Clients"
   ]
  },
  {
   "cell_type": "markdown",
   "id": "ee1600b7",
   "metadata": {},
   "source": [
    "#### CREATE"
   ]
  },
  {
   "cell_type": "code",
   "execution_count": 132,
   "id": "d2fab184",
   "metadata": {},
   "outputs": [
    {
     "name": "stdout",
     "output_type": "stream",
     "text": [
      "201 Created\n",
      "{'id': 31, 'name': 'Testman', 'email': 'test@man.com', 'created_at': '2022-04-14T02:10:17.395434Z', 'updated_at': '2022-04-14T02:10:17.395460Z', 'deleted_at': None}\n"
     ]
    }
   ],
   "source": [
    "data = {\"name\": \"Testman\", \"email\": \"test@man.com\"}\n",
    "response = session.post(\"http://127.0.0.1:8000/api/clients\", data=data)\n",
    "print(response.status_code, response.reason)\n",
    "assert response.status_code == 201\n",
    "client = response.json()\n",
    "print(client)"
   ]
  },
  {
   "cell_type": "markdown",
   "id": "0d5e2ffa",
   "metadata": {},
   "source": [
    "#### RETRIEVE"
   ]
  },
  {
   "cell_type": "code",
   "execution_count": 133,
   "id": "f1bb0efb",
   "metadata": {},
   "outputs": [
    {
     "name": "stdout",
     "output_type": "stream",
     "text": [
      "200 OK\n",
      "{'id': 31, 'name': 'Testman', 'email': 'test@man.com', 'created_at': '2022-04-14T02:10:17.395434Z', 'updated_at': '2022-04-14T02:10:17.395460Z', 'deleted_at': None}\n"
     ]
    }
   ],
   "source": [
    "response = session.get(f\"http://127.0.0.1:8000/api/clients/{client['id']}\")\n",
    "print(response.status_code, response.reason)\n",
    "assert response.status_code == 200\n",
    "print(response.json())"
   ]
  },
  {
   "cell_type": "markdown",
   "id": "fea654e8",
   "metadata": {},
   "source": [
    "#### SEARCH"
   ]
  },
  {
   "cell_type": "code",
   "execution_count": 48,
   "id": "7aeb0b1b",
   "metadata": {},
   "outputs": [
    {
     "name": "stdout",
     "output_type": "stream",
     "text": [
      "200 OK\n",
      "[]\n"
     ]
    }
   ],
   "source": [
    "params = {\"search\": \"spain\", \"start\": \"2010-01-01\", \"end\": \"2022-12-31\"}\n",
    "response = session.get(\"http://127.0.0.1:8000/api/clients\", params=params)\n",
    "print(response.status_code, response.reason)\n",
    "assert response.status_code == 200\n",
    "print(response.json()[:3])"
   ]
  },
  {
   "cell_type": "markdown",
   "id": "70c455aa",
   "metadata": {},
   "source": [
    "# Campaigns"
   ]
  },
  {
   "cell_type": "markdown",
   "id": "733c703b",
   "metadata": {},
   "source": [
    "#### CREATE"
   ]
  },
  {
   "cell_type": "code",
   "execution_count": 114,
   "id": "7e7e44a6",
   "metadata": {},
   "outputs": [
    {
     "name": "stdout",
     "output_type": "stream",
     "text": [
      "201 Created\n",
      "{'id': 11, 'title': 'Test Campaign', 'audience': 'http://127.0.0.1:8000/api/audiences/11', 'is_active': True, 'city': 'http://127.0.0.1:8000/api/cities/11', 'spend': '1300.0000', 'created_at': '2022-04-14T02:02:16.741210Z', 'updated_at': '2022-04-14T02:02:16.741245Z', 'deleted_at': None}\n"
     ]
    }
   ],
   "source": [
    "data = {\n",
    "    \"title\": \"Test Campaign\",\n",
    "    \"audience\": f\"http://127.0.0.1:8000/api/audiences/{audience['id']}\",\n",
    "    \"is_active\": True,\n",
    "    \"city\": f\"http://127.0.0.1:8000/api/cities/{city['id']}\",\n",
    "    \"spend\": 1300\n",
    "}\n",
    "response = session.post(\"http://127.0.0.1:8000/api/campaigns\", data=data)\n",
    "print(response.status_code, response.reason)\n",
    "assert response.status_code == 201\n",
    "campaign = response.json()\n",
    "print(campaign)"
   ]
  },
  {
   "cell_type": "markdown",
   "id": "da395908",
   "metadata": {},
   "source": [
    "#### RETRIEVE"
   ]
  },
  {
   "cell_type": "code",
   "execution_count": 115,
   "id": "adcce1b3",
   "metadata": {},
   "outputs": [
    {
     "name": "stdout",
     "output_type": "stream",
     "text": [
      "200 OK\n",
      "{'id': 11, 'title': 'Test Campaign', 'audience': 'http://127.0.0.1:8000/api/audiences/11', 'is_active': True, 'city': 'http://127.0.0.1:8000/api/cities/11', 'spend': '1300.0000', 'created_at': '2022-04-14T02:02:16.741210Z', 'updated_at': '2022-04-14T02:02:16.741245Z', 'deleted_at': None}\n"
     ]
    }
   ],
   "source": [
    "response = session.get(f\"http://127.0.0.1:8000/api/campaigns/{campaign['id']}\")\n",
    "print(response.status_code, response.reason)\n",
    "assert response.status_code == 200\n",
    "print(response.json())"
   ]
  },
  {
   "cell_type": "markdown",
   "id": "871104a8",
   "metadata": {},
   "source": [
    "#### SEARCH"
   ]
  },
  {
   "cell_type": "code",
   "execution_count": 47,
   "id": "7b0eb804",
   "metadata": {},
   "outputs": [
    {
     "name": "stdout",
     "output_type": "stream",
     "text": [
      "200 OK\n",
      "[{'id': 1, 'title': 'Mi Campaña I', 'audience': 'http://127.0.0.1:8000/api/audiences/3', 'is_active': True, 'city': 'http://127.0.0.1:8000/api/cities/2', 'spend': '662.0000', 'created_at': '2022-03-27T00:02:42.142990Z', 'updated_at': '2022-04-14T00:26:49.529350Z', 'deleted_at': None}, {'id': 2, 'title': 'Mi Campaña II', 'audience': 'http://127.0.0.1:8000/api/audiences/2', 'is_active': True, 'city': 'http://127.0.0.1:8000/api/cities/1', 'spend': '229.0000', 'created_at': '2022-03-27T00:03:12.745244Z', 'updated_at': '2022-04-14T00:26:49.565917Z', 'deleted_at': None}, {'id': 3, 'title': 'Mi Campaña III', 'audience': 'http://127.0.0.1:8000/api/audiences/3', 'is_active': True, 'city': 'http://127.0.0.1:8000/api/cities/3', 'spend': '195.0000', 'created_at': '2022-03-27T00:03:23.570047Z', 'updated_at': '2022-04-14T00:26:49.595708Z', 'deleted_at': None}]\n"
     ]
    }
   ],
   "source": [
    "params = {\"search\": \"spain\", \"start\": \"2010-01-01\", \"end\": \"2022-12-31\"}\n",
    "response = session.get(\"http://127.0.0.1:8000/api/campaigns\", params=params)\n",
    "print(response.status_code, response.reason)\n",
    "assert response.status_code == 200\n",
    "print(response.json()[:3])"
   ]
  },
  {
   "cell_type": "markdown",
   "id": "f681bf9c",
   "metadata": {},
   "source": [
    "# Pages & Metadata"
   ]
  },
  {
   "cell_type": "markdown",
   "id": "aecc0185",
   "metadata": {},
   "source": [
    "#### CREATE"
   ]
  },
  {
   "cell_type": "code",
   "execution_count": 120,
   "id": "606dd373",
   "metadata": {},
   "outputs": [
    {
     "name": "stdout",
     "output_type": "stream",
     "text": [
      "201 Created\n",
      "{'id': 12, 'title': 'Video Page', 'url': 'https://www.instagram.com/', 'created_at': '2022-04-14T02:04:33.810766Z', 'updated_at': '2022-04-14T02:04:33.810794Z', 'deleted_at': None}\n"
     ]
    }
   ],
   "source": [
    "data = {\n",
    "    \"title\": \"Video Page\",\n",
    "    \"url\": \"https://www.instagram.com/\"\n",
    "}\n",
    "response = session.post(\"http://127.0.0.1:8000/api/pages\", data=data)\n",
    "print(response.status_code, response.reason)\n",
    "assert response.status_code == 201\n",
    "page = response.json()\n",
    "print(page)"
   ]
  },
  {
   "cell_type": "markdown",
   "id": "40898714",
   "metadata": {},
   "source": [
    "#### RETRIEVE"
   ]
  },
  {
   "cell_type": "code",
   "execution_count": 121,
   "id": "3a76aaa1",
   "metadata": {},
   "outputs": [
    {
     "name": "stdout",
     "output_type": "stream",
     "text": [
      "200 OK\n",
      "{'id': 12, 'title': 'Video Page', 'url': 'https://www.instagram.com/', 'created_at': '2022-04-14T02:04:33.810766Z', 'updated_at': '2022-04-14T02:04:33.810794Z', 'deleted_at': None}\n"
     ]
    }
   ],
   "source": [
    "response = session.get(f\"http://127.0.0.1:8000/api/pages/{page['id']}\")\n",
    "print(response.status_code, response.reason)\n",
    "assert response.status_code == 200\n",
    "print(response.json())"
   ]
  },
  {
   "cell_type": "markdown",
   "id": "8711135c",
   "metadata": {},
   "source": [
    "#### RETRIEVE"
   ]
  },
  {
   "cell_type": "code",
   "execution_count": 122,
   "id": "d4e5aa45",
   "metadata": {},
   "outputs": [
    {
     "name": "stdout",
     "output_type": "stream",
     "text": [
      "200 OK\n",
      "{'id': 12, 'page': 'http://127.0.0.1:8000/api/pages/12', 'title': 'Instagram', 'site': None, 'image': '/static/images/ico/favicon-200.png/ab6eff595bb1.png', 'locale': None, 'description': 'Create an account or log in to Instagram - A simple, fun & creative way to capture, edit & share photos, videos & messages with friends & family.', 'keywords': None, 'author': None, 'viewport': 'width=device-width, initial-scale=1, minimum-scale=1, maximum-scale=1, viewport-fit=cover', 'published_at': None, 'created_at': '2022-04-14T02:04:33.845961Z', 'updated_at': '2022-04-14T02:04:34.153626Z', 'deleted_at': None}\n"
     ]
    }
   ],
   "source": [
    "response = session.get(f\"http://127.0.0.1:8000/api/metadata/{page['id']}\")\n",
    "print(response.status_code, response.reason)\n",
    "assert response.status_code == 200\n",
    "print(response.json())"
   ]
  },
  {
   "cell_type": "markdown",
   "id": "660d95e9",
   "metadata": {},
   "source": [
    "#### SEARCH"
   ]
  },
  {
   "cell_type": "code",
   "execution_count": 56,
   "id": "c94d1dad",
   "metadata": {},
   "outputs": [
    {
     "name": "stdout",
     "output_type": "stream",
     "text": [
      "200 OK\n",
      "[]\n"
     ]
    }
   ],
   "source": [
    "params = {\"search\": \"spain\", \"start\": \"2010-01-01\", \"end\": \"2022-12-31\"}\n",
    "response = session.get(\"http://127.0.0.1:8000/api/pages\", params=params)\n",
    "print(response.status_code, response.reason)\n",
    "assert response.status_code == 200\n",
    "print(response.json()[:3])"
   ]
  },
  {
   "cell_type": "markdown",
   "id": "7bc9a4ad",
   "metadata": {},
   "source": [
    "#### SEARCH"
   ]
  },
  {
   "cell_type": "code",
   "execution_count": 55,
   "id": "1c87c433",
   "metadata": {},
   "outputs": [
    {
     "name": "stdout",
     "output_type": "stream",
     "text": [
      "200 OK\n",
      "[]\n"
     ]
    }
   ],
   "source": [
    "params = {\"search\": \"spain\", \"start\": \"2010-01-01\", \"end\": \"2022-12-31\"}\n",
    "response = session.get(\"http://127.0.0.1:8000/api/metadata\", params=params)\n",
    "print(response.status_code, response.reason)\n",
    "assert response.status_code == 200\n",
    "print(response.json()[:3])"
   ]
  },
  {
   "cell_type": "markdown",
   "id": "6b041e8b",
   "metadata": {},
   "source": [
    "# Metrics"
   ]
  },
  {
   "cell_type": "markdown",
   "id": "51c7075b",
   "metadata": {},
   "source": [
    "#### CREATE"
   ]
  },
  {
   "cell_type": "code",
   "execution_count": 128,
   "id": "0bb5d315",
   "metadata": {},
   "outputs": [
    {
     "name": "stdout",
     "output_type": "stream",
     "text": [
      "201 Created\n",
      "{\"id\":101,\"campaign\":\"http://127.0.0.1:8000/api/campaigns/11\",\"metric_type\":\"VI\",\"page\":\"http://127.0.0.1:8000/api/pages/12\",\"created_at\":\"2022-04-14T02:07:56.185954Z\",\"updated_at\":\"2022-04-14T02:07:56.185989Z\",\"deleted_at\":null}\n",
      "{'id': 101, 'campaign': 'http://127.0.0.1:8000/api/campaigns/11', 'metric_type': 'VI', 'page': 'http://127.0.0.1:8000/api/pages/12', 'created_at': '2022-04-14T02:07:56.185954Z', 'updated_at': '2022-04-14T02:07:56.185989Z', 'deleted_at': None}\n"
     ]
    }
   ],
   "source": [
    "data = {\n",
    "    \"campaign\": f\"http://127.0.0.1:8000/api/campaigns/{campaign['id']}\",\n",
    "    \"metric_type\": \"VI\",\n",
    "    \"page\": f\"http://127.0.0.1:8000/api/pages/{page['id']}\"\n",
    "}\n",
    "response = session.post(\"http://127.0.0.1:8000/api/metrics\", data=data)\n",
    "print(response.status_code, response.reason)\n",
    "print(response.text) # FIXME\n",
    "assert response.status_code == 201\n",
    "metric = response.json()\n",
    "print(metric)"
   ]
  },
  {
   "cell_type": "markdown",
   "id": "882a79ce",
   "metadata": {},
   "source": [
    "#### RETRIEVE"
   ]
  },
  {
   "cell_type": "code",
   "execution_count": 129,
   "id": "4343cc76",
   "metadata": {},
   "outputs": [
    {
     "name": "stdout",
     "output_type": "stream",
     "text": [
      "200 OK\n",
      "{'id': 101, 'campaign': 'http://127.0.0.1:8000/api/campaigns/11', 'metric_type': 'VI', 'page': 'http://127.0.0.1:8000/api/pages/12', 'created_at': '2022-04-14T02:07:56.185954Z', 'updated_at': '2022-04-14T02:07:56.185989Z', 'deleted_at': None}\n"
     ]
    }
   ],
   "source": [
    "response = session.get(f\"http://127.0.0.1:8000/api/metrics/{metric['id']}\")\n",
    "print(response.status_code, response.reason)\n",
    "assert response.status_code == 200\n",
    "print(response.json())"
   ]
  },
  {
   "cell_type": "markdown",
   "id": "d10f22d3",
   "metadata": {},
   "source": [
    "#### SEARCH"
   ]
  },
  {
   "cell_type": "code",
   "execution_count": 57,
   "id": "e51ab17b",
   "metadata": {},
   "outputs": [
    {
     "name": "stdout",
     "output_type": "stream",
     "text": [
      "200 OK\n",
      "[{'id': 1, 'campaign': 'http://127.0.0.1:8000/api/campaigns/1', 'metric_type': 'VI', 'page': 'http://127.0.0.1:8000/api/pages/1', 'created_at': '2022-03-27T00:15:29.975256Z', 'updated_at': '2022-03-27T00:15:29.975286Z', 'deleted_at': None}, {'id': 2, 'campaign': 'http://127.0.0.1:8000/api/campaigns/1', 'metric_type': 'CL', 'page': 'http://127.0.0.1:8000/api/pages/1', 'created_at': '2022-03-27T00:15:40.797887Z', 'updated_at': '2022-03-27T00:15:40.797925Z', 'deleted_at': None}, {'id': 3, 'campaign': 'http://127.0.0.1:8000/api/campaigns/1', 'metric_type': 'CL', 'page': 'http://127.0.0.1:8000/api/pages/2', 'created_at': '2022-03-27T00:15:45.958392Z', 'updated_at': '2022-03-27T00:15:45.958485Z', 'deleted_at': None}]\n"
     ]
    }
   ],
   "source": [
    "params = {\"search\": \"spain\", \"start\": \"2010-01-01\", \"end\": \"2022-12-31\"}\n",
    "response = session.get(\"http://127.0.0.1:8000/api/metrics\", params=params)\n",
    "print(response.status_code, response.reason)\n",
    "assert response.status_code == 200\n",
    "print(response.json()[:3])"
   ]
  },
  {
   "cell_type": "markdown",
   "id": "18072cae",
   "metadata": {},
   "source": [
    "# Events"
   ]
  },
  {
   "cell_type": "markdown",
   "id": "8a9ff733",
   "metadata": {},
   "source": [
    "#### CREATE"
   ]
  },
  {
   "cell_type": "code",
   "execution_count": 134,
   "id": "b62963ae",
   "metadata": {},
   "outputs": [
    {
     "name": "stdout",
     "output_type": "stream",
     "text": [
      "201 Created\n",
      "{'id': 101, 'campaign': 'http://127.0.0.1:8000/api/campaigns/11', 'metric_type': 'VI', 'page': 'http://127.0.0.1:8000/api/pages/12', 'created_at': '2022-04-14T02:07:56.185954Z', 'updated_at': '2022-04-14T02:07:56.185989Z', 'deleted_at': None}\n"
     ]
    }
   ],
   "source": [
    "data = {\n",
    "    \"metric\": f\"http://127.0.0.1:8000/api/metrics/{metric['id']}\",\n",
    "    \"value\": 1,\n",
    "    \"client\": f\"http://127.0.0.1:8000/api/clients/{client['id']}\"\n",
    "}\n",
    "response = session.post(\"http://127.0.0.1:8000/api/events\", data=data)\n",
    "print(response.status_code, response.reason)\n",
    "assert response.status_code == 201\n",
    "event = response.json()\n",
    "print(event)"
   ]
  },
  {
   "cell_type": "markdown",
   "id": "86516ff6",
   "metadata": {},
   "source": [
    "#### RETRIEVE"
   ]
  },
  {
   "cell_type": "code",
   "execution_count": 135,
   "id": "5c11cbf1",
   "metadata": {},
   "outputs": [
    {
     "name": "stdout",
     "output_type": "stream",
     "text": [
      "200 OK\n",
      "{'id': 101, 'campaign': 'http://127.0.0.1:8000/api/campaigns/11', 'metric_type': 'VI', 'page': 'http://127.0.0.1:8000/api/pages/12', 'created_at': '2022-04-14T02:07:56.185954Z', 'updated_at': '2022-04-14T02:07:56.185989Z', 'deleted_at': None}\n"
     ]
    }
   ],
   "source": [
    "response = session.get(f\"http://127.0.0.1:8000/api/metrics/{metric['id']}\")\n",
    "print(response.status_code, response.reason)\n",
    "assert response.status_code == 200\n",
    "print(response.json())"
   ]
  },
  {
   "cell_type": "markdown",
   "id": "f423bbdf",
   "metadata": {},
   "source": [
    "#### SEARCH"
   ]
  },
  {
   "cell_type": "code",
   "execution_count": 54,
   "id": "096f08f6",
   "metadata": {},
   "outputs": [
    {
     "name": "stdout",
     "output_type": "stream",
     "text": [
      "200 OK\n",
      "[{'id': 1146, 'client': 'http://127.0.0.1:8000/api/clients/16', 'metric': 'http://127.0.0.1:8000/api/metrics/21', 'value': '1.0000', 'created_at': '2020-04-15T15:05:49.217061Z', 'updated_at': '2022-03-27T11:15:43.782766Z', 'deleted_at': None}, {'id': 1147, 'client': 'http://127.0.0.1:8000/api/clients/16', 'metric': 'http://127.0.0.1:8000/api/metrics/22', 'value': '1.0000', 'created_at': '2020-04-15T15:05:49.217061Z', 'updated_at': '2022-03-27T11:15:43.831821Z', 'deleted_at': None}, {'id': 1148, 'client': 'http://127.0.0.1:8000/api/clients/16', 'metric': 'http://127.0.0.1:8000/api/metrics/23', 'value': '1.0000', 'created_at': '2020-04-16T15:05:49.217061Z', 'updated_at': '2022-03-27T11:15:43.873467Z', 'deleted_at': None}]\n"
     ]
    }
   ],
   "source": [
    "params = {\"search\": \"spain\", \"start\": \"2010-01-01\", \"end\": \"2022-12-31\"}\n",
    "response = session.get(\"http://127.0.0.1:8000/api/events\", params=params)\n",
    "print(response.status_code, response.reason)\n",
    "assert response.status_code == 200\n",
    "print(response.json()[:3])"
   ]
  },
  {
   "cell_type": "markdown",
   "id": "e1e4c192",
   "metadata": {},
   "source": [
    "# Product"
   ]
  },
  {
   "cell_type": "markdown",
   "id": "8785336b",
   "metadata": {},
   "source": [
    "#### CREATE"
   ]
  },
  {
   "cell_type": "code",
   "execution_count": 136,
   "id": "e3386a4e",
   "metadata": {},
   "outputs": [
    {
     "name": "stdout",
     "output_type": "stream",
     "text": [
      "201 Created\n",
      "{'id': 7, 'title': 'Test Product', 'cost': '10.0000', 'created_at': '2022-04-14T02:11:18.476003Z', 'updated_at': '2022-04-14T02:11:18.476030Z', 'deleted_at': None}\n"
     ]
    }
   ],
   "source": [
    "data = {\n",
    "    \"title\": \"Test Product\",\n",
    "    \"cost\": 10\n",
    "}\n",
    "response = session.post(\"http://127.0.0.1:8000/api/products\", data=data)\n",
    "print(response.status_code, response.reason)\n",
    "assert response.status_code == 201\n",
    "product = response.json()\n",
    "print(product)"
   ]
  },
  {
   "cell_type": "markdown",
   "id": "3d25a5fc",
   "metadata": {},
   "source": [
    "#### RETRIEVE"
   ]
  },
  {
   "cell_type": "code",
   "execution_count": 137,
   "id": "7c9baa30",
   "metadata": {},
   "outputs": [
    {
     "name": "stdout",
     "output_type": "stream",
     "text": [
      "200 OK\n",
      "{'id': 7, 'title': 'Test Product', 'cost': '10.0000', 'created_at': '2022-04-14T02:11:18.476003Z', 'updated_at': '2022-04-14T02:11:18.476030Z', 'deleted_at': None}\n"
     ]
    }
   ],
   "source": [
    "response = session.get(f\"http://127.0.0.1:8000/api/products/{product['id']}\")\n",
    "print(response.status_code, response.reason)\n",
    "assert response.status_code == 200\n",
    "print(response.json())"
   ]
  },
  {
   "cell_type": "markdown",
   "id": "04f257f8",
   "metadata": {},
   "source": [
    "#### SEARCH"
   ]
  },
  {
   "cell_type": "code",
   "execution_count": 53,
   "id": "398c0f48",
   "metadata": {},
   "outputs": [
    {
     "name": "stdout",
     "output_type": "stream",
     "text": [
      "200 OK\n",
      "[]\n"
     ]
    }
   ],
   "source": [
    "params = {\"search\": \"spain\", \"start\": \"2010-01-01\", \"end\": \"2022-12-31\"}\n",
    "response = session.get(\"http://127.0.0.1:8000/api/products\", params=params)\n",
    "print(response.status_code, response.reason)\n",
    "assert response.status_code == 200\n",
    "print(response.json()[:3])"
   ]
  },
  {
   "cell_type": "markdown",
   "id": "885e0b65",
   "metadata": {},
   "source": [
    "# Subscriptions"
   ]
  },
  {
   "cell_type": "markdown",
   "id": "758c2738",
   "metadata": {},
   "source": [
    "#### CREATE"
   ]
  },
  {
   "cell_type": "code",
   "execution_count": 138,
   "id": "e3577a5a",
   "metadata": {},
   "outputs": [
    {
     "name": "stdout",
     "output_type": "stream",
     "text": [
      "201 Created\n",
      "{'id': 183, 'event': 'http://127.0.0.1:8000/api/events/3856', 'product': 'http://127.0.0.1:8000/api/products/7', 'price': '0.0000', 'created_at': '2022-04-14T02:12:21.065916Z', 'updated_at': '2022-04-14T02:12:21.065941Z', 'canceled_at': None, 'deleted_at': None}\n"
     ]
    }
   ],
   "source": [
    "data = {\n",
    "    \"event\": f\"http://127.0.0.1:8000/api/events/{event['id']}\",\n",
    "    \"product\": f\"http://127.0.0.1:8000/api/products/{product['id']}\"\n",
    "}\n",
    "response = session.post(\"http://127.0.0.1:8000/api/subscriptions\", data=data)\n",
    "print(response.status_code, response.reason)\n",
    "assert response.status_code == 201\n",
    "subscription = response.json()\n",
    "print(subscription)"
   ]
  },
  {
   "cell_type": "markdown",
   "id": "bb19ef4b",
   "metadata": {},
   "source": [
    "#### RETRIEVE"
   ]
  },
  {
   "cell_type": "code",
   "execution_count": 139,
   "id": "5ef1ba85",
   "metadata": {},
   "outputs": [
    {
     "name": "stdout",
     "output_type": "stream",
     "text": [
      "200 OK\n",
      "{'id': 183, 'event': 'http://127.0.0.1:8000/api/events/3856', 'product': 'http://127.0.0.1:8000/api/products/7', 'price': '0.0000', 'created_at': '2022-04-14T02:12:21.065916Z', 'updated_at': '2022-04-14T02:12:21.065941Z', 'canceled_at': None, 'deleted_at': None}\n"
     ]
    }
   ],
   "source": [
    "response = session.get(f\"http://127.0.0.1:8000/api/subscriptions/{subscription['id']}\")\n",
    "print(response.status_code, response.reason)\n",
    "assert response.status_code == 200\n",
    "print(response.json())"
   ]
  },
  {
   "cell_type": "markdown",
   "id": "ba273a58",
   "metadata": {},
   "source": [
    "#### SEARCH"
   ]
  },
  {
   "cell_type": "code",
   "execution_count": 58,
   "id": "bd8ee3da",
   "metadata": {},
   "outputs": [
    {
     "name": "stdout",
     "output_type": "stream",
     "text": [
      "200 OK\n",
      "[{'id': 1, 'event': 'http://127.0.0.1:8000/api/events/1257', 'product': 'http://127.0.0.1:8000/api/products/6', 'price': '26.9159', 'created_at': '2021-10-20T07:24:15.980033Z', 'updated_at': '2022-04-13T23:51:26.531969Z', 'canceled_at': None, 'deleted_at': None}, {'id': 2, 'event': 'http://127.0.0.1:8000/api/events/1605', 'product': 'http://127.0.0.1:8000/api/products/2', 'price': '26.4626', 'created_at': '2021-07-13T01:24:16.007463Z', 'updated_at': '2022-04-13T23:51:26.560066Z', 'canceled_at': None, 'deleted_at': None}, {'id': 3, 'event': 'http://127.0.0.1:8000/api/events/1813', 'product': 'http://127.0.0.1:8000/api/products/3', 'price': '39.5311', 'created_at': '2022-02-17T05:24:16.036329Z', 'updated_at': '2022-04-13T23:51:26.584811Z', 'canceled_at': None, 'deleted_at': None}]\n"
     ]
    }
   ],
   "source": [
    "params = {\"search\": \"spain\", \"start\": \"2010-01-01\", \"end\": \"2022-12-31\"}\n",
    "response = session.get(\"http://127.0.0.1:8000/api/subscriptions\", params=params)\n",
    "print(response.status_code, response.reason)\n",
    "assert response.status_code == 200\n",
    "print(response.json()[:3])"
   ]
  }
 ],
 "metadata": {
  "kernelspec": {
   "display_name": "Python 3 (ipykernel)",
   "language": "python",
   "name": "python3"
  },
  "language_info": {
   "codemirror_mode": {
    "name": "ipython",
    "version": 3
   },
   "file_extension": ".py",
   "mimetype": "text/x-python",
   "name": "python",
   "nbconvert_exporter": "python",
   "pygments_lexer": "ipython3",
   "version": "3.9.9"
  }
 },
 "nbformat": 4,
 "nbformat_minor": 5
}
